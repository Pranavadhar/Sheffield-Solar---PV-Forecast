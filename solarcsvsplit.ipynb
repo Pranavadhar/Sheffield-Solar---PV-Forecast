{
 "cells": [
  {
   "cell_type": "code",
   "execution_count": 1,
   "metadata": {},
   "outputs": [],
   "source": [
    "import numpy as np\n",
    "import pandas as pd"
   ]
  },
  {
   "cell_type": "code",
   "execution_count": 2,
   "metadata": {},
   "outputs": [],
   "source": [
    "df = pd.read_csv(\"C:\\\\Users\\\\prana\\\\Documents\\\\PRANAV'S ML\\\\solar\\\\PV_Live Historical Results.csv\")"
   ]
  },
  {
   "cell_type": "code",
   "execution_count": 3,
   "metadata": {},
   "outputs": [
    {
     "data": {
      "text/html": [
       "<div>\n",
       "<style scoped>\n",
       "    .dataframe tbody tr th:only-of-type {\n",
       "        vertical-align: middle;\n",
       "    }\n",
       "\n",
       "    .dataframe tbody tr th {\n",
       "        vertical-align: top;\n",
       "    }\n",
       "\n",
       "    .dataframe thead th {\n",
       "        text-align: right;\n",
       "    }\n",
       "</style>\n",
       "<table border=\"1\" class=\"dataframe\">\n",
       "  <thead>\n",
       "    <tr style=\"text-align: right;\">\n",
       "      <th></th>\n",
       "      <th>datetime_gmt</th>\n",
       "      <th>generation_mw</th>\n",
       "      <th>lcl_mw</th>\n",
       "      <th>ucl_mw</th>\n",
       "      <th>installedcapacity_mwp</th>\n",
       "      <th>capacity_mwp</th>\n",
       "    </tr>\n",
       "  </thead>\n",
       "  <tbody>\n",
       "    <tr>\n",
       "      <th>0</th>\n",
       "      <td>2024-04-18T15:30:00Z</td>\n",
       "      <td>3508.04</td>\n",
       "      <td>3380.27</td>\n",
       "      <td>3635.81</td>\n",
       "      <td>16445.201</td>\n",
       "      <td>15430.445</td>\n",
       "    </tr>\n",
       "    <tr>\n",
       "      <th>1</th>\n",
       "      <td>2024-04-18T15:00:00Z</td>\n",
       "      <td>4253.15</td>\n",
       "      <td>4117.64</td>\n",
       "      <td>4388.65</td>\n",
       "      <td>16445.201</td>\n",
       "      <td>15430.445</td>\n",
       "    </tr>\n",
       "    <tr>\n",
       "      <th>2</th>\n",
       "      <td>2024-04-18T14:30:00Z</td>\n",
       "      <td>4993.39</td>\n",
       "      <td>4847.18</td>\n",
       "      <td>5139.59</td>\n",
       "      <td>16445.201</td>\n",
       "      <td>15430.446</td>\n",
       "    </tr>\n",
       "    <tr>\n",
       "      <th>3</th>\n",
       "      <td>2024-04-18T14:00:00Z</td>\n",
       "      <td>5664.35</td>\n",
       "      <td>5508.08</td>\n",
       "      <td>5820.61</td>\n",
       "      <td>16445.201</td>\n",
       "      <td>15430.446</td>\n",
       "    </tr>\n",
       "    <tr>\n",
       "      <th>4</th>\n",
       "      <td>2024-04-18T13:30:00Z</td>\n",
       "      <td>6227.09</td>\n",
       "      <td>6061.42</td>\n",
       "      <td>6392.76</td>\n",
       "      <td>16445.201</td>\n",
       "      <td>15430.446</td>\n",
       "    </tr>\n",
       "  </tbody>\n",
       "</table>\n",
       "</div>"
      ],
      "text/plain": [
       "           datetime_gmt  generation_mw   lcl_mw   ucl_mw  \\\n",
       "0  2024-04-18T15:30:00Z        3508.04  3380.27  3635.81   \n",
       "1  2024-04-18T15:00:00Z        4253.15  4117.64  4388.65   \n",
       "2  2024-04-18T14:30:00Z        4993.39  4847.18  5139.59   \n",
       "3  2024-04-18T14:00:00Z        5664.35  5508.08  5820.61   \n",
       "4  2024-04-18T13:30:00Z        6227.09  6061.42  6392.76   \n",
       "\n",
       "   installedcapacity_mwp  capacity_mwp  \n",
       "0              16445.201     15430.445  \n",
       "1              16445.201     15430.445  \n",
       "2              16445.201     15430.446  \n",
       "3              16445.201     15430.446  \n",
       "4              16445.201     15430.446  "
      ]
     },
     "execution_count": 3,
     "metadata": {},
     "output_type": "execute_result"
    }
   ],
   "source": [
    "df.head()"
   ]
  },
  {
   "cell_type": "code",
   "execution_count": 4,
   "metadata": {},
   "outputs": [],
   "source": [
    "df['datetime_gmt'] = pd.to_datetime(df['datetime_gmt'])\n"
   ]
  },
  {
   "cell_type": "code",
   "execution_count": 5,
   "metadata": {},
   "outputs": [
    {
     "name": "stdout",
     "output_type": "stream",
     "text": [
      "0       2024-04-18 15:30:00+00:00\n",
      "1       2024-04-18 15:00:00+00:00\n",
      "2       2024-04-18 14:30:00+00:00\n",
      "3       2024-04-18 14:00:00+00:00\n",
      "4       2024-04-18 13:30:00+00:00\n",
      "                   ...           \n",
      "17547   2023-04-19 02:00:00+00:00\n",
      "17548   2023-04-19 01:30:00+00:00\n",
      "17549   2023-04-19 01:00:00+00:00\n",
      "17550   2023-04-19 00:30:00+00:00\n",
      "17551   2023-04-19 00:00:00+00:00\n",
      "Name: datetime_gmt, Length: 17552, dtype: datetime64[ns, UTC]\n"
     ]
    }
   ],
   "source": [
    "print(df['datetime_gmt'])"
   ]
  },
  {
   "cell_type": "code",
   "execution_count": 6,
   "metadata": {},
   "outputs": [],
   "source": [
    "#df['date'] = df['datetime_gmt'].dt.date\n",
    "df['time'] = df['datetime_gmt'].dt.time\n"
   ]
  },
  {
   "cell_type": "code",
   "execution_count": 7,
   "metadata": {},
   "outputs": [],
   "source": [
    "#df['date']"
   ]
  },
  {
   "cell_type": "code",
   "execution_count": 8,
   "metadata": {},
   "outputs": [],
   "source": [
    "df['date'] = df['datetime_gmt'].dt.strftime('%Y%m%d')"
   ]
  },
  {
   "cell_type": "code",
   "execution_count": 9,
   "metadata": {},
   "outputs": [
    {
     "data": {
      "text/plain": [
       "0        20240418\n",
       "1        20240418\n",
       "2        20240418\n",
       "3        20240418\n",
       "4        20240418\n",
       "           ...   \n",
       "17547    20230419\n",
       "17548    20230419\n",
       "17549    20230419\n",
       "17550    20230419\n",
       "17551    20230419\n",
       "Name: date, Length: 17552, dtype: object"
      ]
     },
     "execution_count": 9,
     "metadata": {},
     "output_type": "execute_result"
    }
   ],
   "source": [
    "df[\"date\"]"
   ]
  },
  {
   "cell_type": "code",
   "execution_count": 10,
   "metadata": {},
   "outputs": [],
   "source": [
    "df['time'] = df['datetime_gmt'].dt.strftime('%H%M%S')"
   ]
  },
  {
   "cell_type": "code",
   "execution_count": 11,
   "metadata": {},
   "outputs": [
    {
     "data": {
      "text/plain": [
       "0        153000\n",
       "1        150000\n",
       "2        143000\n",
       "3        140000\n",
       "4        133000\n",
       "          ...  \n",
       "17547    020000\n",
       "17548    013000\n",
       "17549    010000\n",
       "17550    003000\n",
       "17551    000000\n",
       "Name: time, Length: 17552, dtype: object"
      ]
     },
     "execution_count": 11,
     "metadata": {},
     "output_type": "execute_result"
    }
   ],
   "source": [
    "df['time']"
   ]
  },
  {
   "cell_type": "code",
   "execution_count": 12,
   "metadata": {},
   "outputs": [
    {
     "data": {
      "text/html": [
       "<div>\n",
       "<style scoped>\n",
       "    .dataframe tbody tr th:only-of-type {\n",
       "        vertical-align: middle;\n",
       "    }\n",
       "\n",
       "    .dataframe tbody tr th {\n",
       "        vertical-align: top;\n",
       "    }\n",
       "\n",
       "    .dataframe thead th {\n",
       "        text-align: right;\n",
       "    }\n",
       "</style>\n",
       "<table border=\"1\" class=\"dataframe\">\n",
       "  <thead>\n",
       "    <tr style=\"text-align: right;\">\n",
       "      <th></th>\n",
       "      <th>datetime_gmt</th>\n",
       "      <th>generation_mw</th>\n",
       "      <th>lcl_mw</th>\n",
       "      <th>ucl_mw</th>\n",
       "      <th>installedcapacity_mwp</th>\n",
       "      <th>capacity_mwp</th>\n",
       "      <th>time</th>\n",
       "      <th>date</th>\n",
       "    </tr>\n",
       "  </thead>\n",
       "  <tbody>\n",
       "    <tr>\n",
       "      <th>0</th>\n",
       "      <td>2024-04-18 15:30:00+00:00</td>\n",
       "      <td>3508.04</td>\n",
       "      <td>3380.27</td>\n",
       "      <td>3635.81</td>\n",
       "      <td>16445.201</td>\n",
       "      <td>15430.445</td>\n",
       "      <td>153000</td>\n",
       "      <td>20240418</td>\n",
       "    </tr>\n",
       "    <tr>\n",
       "      <th>1</th>\n",
       "      <td>2024-04-18 15:00:00+00:00</td>\n",
       "      <td>4253.15</td>\n",
       "      <td>4117.64</td>\n",
       "      <td>4388.65</td>\n",
       "      <td>16445.201</td>\n",
       "      <td>15430.445</td>\n",
       "      <td>150000</td>\n",
       "      <td>20240418</td>\n",
       "    </tr>\n",
       "    <tr>\n",
       "      <th>2</th>\n",
       "      <td>2024-04-18 14:30:00+00:00</td>\n",
       "      <td>4993.39</td>\n",
       "      <td>4847.18</td>\n",
       "      <td>5139.59</td>\n",
       "      <td>16445.201</td>\n",
       "      <td>15430.446</td>\n",
       "      <td>143000</td>\n",
       "      <td>20240418</td>\n",
       "    </tr>\n",
       "    <tr>\n",
       "      <th>3</th>\n",
       "      <td>2024-04-18 14:00:00+00:00</td>\n",
       "      <td>5664.35</td>\n",
       "      <td>5508.08</td>\n",
       "      <td>5820.61</td>\n",
       "      <td>16445.201</td>\n",
       "      <td>15430.446</td>\n",
       "      <td>140000</td>\n",
       "      <td>20240418</td>\n",
       "    </tr>\n",
       "    <tr>\n",
       "      <th>4</th>\n",
       "      <td>2024-04-18 13:30:00+00:00</td>\n",
       "      <td>6227.09</td>\n",
       "      <td>6061.42</td>\n",
       "      <td>6392.76</td>\n",
       "      <td>16445.201</td>\n",
       "      <td>15430.446</td>\n",
       "      <td>133000</td>\n",
       "      <td>20240418</td>\n",
       "    </tr>\n",
       "  </tbody>\n",
       "</table>\n",
       "</div>"
      ],
      "text/plain": [
       "               datetime_gmt  generation_mw   lcl_mw   ucl_mw  \\\n",
       "0 2024-04-18 15:30:00+00:00        3508.04  3380.27  3635.81   \n",
       "1 2024-04-18 15:00:00+00:00        4253.15  4117.64  4388.65   \n",
       "2 2024-04-18 14:30:00+00:00        4993.39  4847.18  5139.59   \n",
       "3 2024-04-18 14:00:00+00:00        5664.35  5508.08  5820.61   \n",
       "4 2024-04-18 13:30:00+00:00        6227.09  6061.42  6392.76   \n",
       "\n",
       "   installedcapacity_mwp  capacity_mwp    time      date  \n",
       "0              16445.201     15430.445  153000  20240418  \n",
       "1              16445.201     15430.445  150000  20240418  \n",
       "2              16445.201     15430.446  143000  20240418  \n",
       "3              16445.201     15430.446  140000  20240418  \n",
       "4              16445.201     15430.446  133000  20240418  "
      ]
     },
     "execution_count": 12,
     "metadata": {},
     "output_type": "execute_result"
    }
   ],
   "source": [
    "df.head()"
   ]
  },
  {
   "cell_type": "code",
   "execution_count": 13,
   "metadata": {},
   "outputs": [],
   "source": [
    "df = df.drop([\"datetime_gmt\"],axis=1)"
   ]
  },
  {
   "cell_type": "code",
   "execution_count": 14,
   "metadata": {},
   "outputs": [
    {
     "data": {
      "text/html": [
       "<div>\n",
       "<style scoped>\n",
       "    .dataframe tbody tr th:only-of-type {\n",
       "        vertical-align: middle;\n",
       "    }\n",
       "\n",
       "    .dataframe tbody tr th {\n",
       "        vertical-align: top;\n",
       "    }\n",
       "\n",
       "    .dataframe thead th {\n",
       "        text-align: right;\n",
       "    }\n",
       "</style>\n",
       "<table border=\"1\" class=\"dataframe\">\n",
       "  <thead>\n",
       "    <tr style=\"text-align: right;\">\n",
       "      <th></th>\n",
       "      <th>generation_mw</th>\n",
       "      <th>lcl_mw</th>\n",
       "      <th>ucl_mw</th>\n",
       "      <th>installedcapacity_mwp</th>\n",
       "      <th>capacity_mwp</th>\n",
       "      <th>time</th>\n",
       "      <th>date</th>\n",
       "    </tr>\n",
       "  </thead>\n",
       "  <tbody>\n",
       "    <tr>\n",
       "      <th>0</th>\n",
       "      <td>3508.04</td>\n",
       "      <td>3380.27</td>\n",
       "      <td>3635.81</td>\n",
       "      <td>16445.201</td>\n",
       "      <td>15430.445</td>\n",
       "      <td>153000</td>\n",
       "      <td>20240418</td>\n",
       "    </tr>\n",
       "    <tr>\n",
       "      <th>1</th>\n",
       "      <td>4253.15</td>\n",
       "      <td>4117.64</td>\n",
       "      <td>4388.65</td>\n",
       "      <td>16445.201</td>\n",
       "      <td>15430.445</td>\n",
       "      <td>150000</td>\n",
       "      <td>20240418</td>\n",
       "    </tr>\n",
       "    <tr>\n",
       "      <th>2</th>\n",
       "      <td>4993.39</td>\n",
       "      <td>4847.18</td>\n",
       "      <td>5139.59</td>\n",
       "      <td>16445.201</td>\n",
       "      <td>15430.446</td>\n",
       "      <td>143000</td>\n",
       "      <td>20240418</td>\n",
       "    </tr>\n",
       "    <tr>\n",
       "      <th>3</th>\n",
       "      <td>5664.35</td>\n",
       "      <td>5508.08</td>\n",
       "      <td>5820.61</td>\n",
       "      <td>16445.201</td>\n",
       "      <td>15430.446</td>\n",
       "      <td>140000</td>\n",
       "      <td>20240418</td>\n",
       "    </tr>\n",
       "    <tr>\n",
       "      <th>4</th>\n",
       "      <td>6227.09</td>\n",
       "      <td>6061.42</td>\n",
       "      <td>6392.76</td>\n",
       "      <td>16445.201</td>\n",
       "      <td>15430.446</td>\n",
       "      <td>133000</td>\n",
       "      <td>20240418</td>\n",
       "    </tr>\n",
       "  </tbody>\n",
       "</table>\n",
       "</div>"
      ],
      "text/plain": [
       "   generation_mw   lcl_mw   ucl_mw  installedcapacity_mwp  capacity_mwp  \\\n",
       "0        3508.04  3380.27  3635.81              16445.201     15430.445   \n",
       "1        4253.15  4117.64  4388.65              16445.201     15430.445   \n",
       "2        4993.39  4847.18  5139.59              16445.201     15430.446   \n",
       "3        5664.35  5508.08  5820.61              16445.201     15430.446   \n",
       "4        6227.09  6061.42  6392.76              16445.201     15430.446   \n",
       "\n",
       "     time      date  \n",
       "0  153000  20240418  \n",
       "1  150000  20240418  \n",
       "2  143000  20240418  \n",
       "3  140000  20240418  \n",
       "4  133000  20240418  "
      ]
     },
     "execution_count": 14,
     "metadata": {},
     "output_type": "execute_result"
    }
   ],
   "source": [
    "df.head()"
   ]
  },
  {
   "cell_type": "code",
   "execution_count": 15,
   "metadata": {},
   "outputs": [
    {
     "name": "stdout",
     "output_type": "stream",
     "text": [
      "Excel file saved successfully at 'PV_Live_new.csv'\n"
     ]
    }
   ],
   "source": [
    "# Assuming df is your DataFrame with the 'date' and 'time' columns added\n",
    "\n",
    "# Specify the file path where you want to save the Excel file\n",
    "file_path = 'PV_Live_new.csv'  # Replace 'path_to_your_file.xlsx' with your desired file path\n",
    "\n",
    "# Save the DataFrame to an Excel file\n",
    "df.to_csv(file_path, index=False)\n",
    "\n",
    "print(f\"Excel file saved successfully at '{file_path}'\")\n"
   ]
  },
  {
   "cell_type": "code",
   "execution_count": null,
   "metadata": {},
   "outputs": [],
   "source": []
  }
 ],
 "metadata": {
  "kernelspec": {
   "display_name": "Python 3",
   "language": "python",
   "name": "python3"
  },
  "language_info": {
   "codemirror_mode": {
    "name": "ipython",
    "version": 3
   },
   "file_extension": ".py",
   "mimetype": "text/x-python",
   "name": "python",
   "nbconvert_exporter": "python",
   "pygments_lexer": "ipython3",
   "version": "3.12.2"
  }
 },
 "nbformat": 4,
 "nbformat_minor": 2
}
